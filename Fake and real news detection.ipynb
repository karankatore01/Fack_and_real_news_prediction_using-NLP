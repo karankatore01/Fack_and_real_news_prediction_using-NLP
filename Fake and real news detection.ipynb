{
 "cells": [
  {
   "cell_type": "code",
   "execution_count": 1,
   "metadata": {},
   "outputs": [],
   "source": [
    "import pandas as pd"
   ]
  },
  {
   "cell_type": "code",
   "execution_count": 8,
   "metadata": {},
   "outputs": [],
   "source": [
    "X= pd.read_csv('True.csv')\n",
    "y=pd.read_csv('Fake.csv')"
   ]
  },
  {
   "cell_type": "code",
   "execution_count": 11,
   "metadata": {},
   "outputs": [
    {
     "name": "stdout",
     "output_type": "stream",
     "text": [
      "0        WASHINGTON (Reuters) - The head of a conservat...\n",
      "1        WASHINGTON (Reuters) - Transgender people will...\n",
      "2        WASHINGTON (Reuters) - The special counsel inv...\n",
      "3        WASHINGTON (Reuters) - Trump campaign adviser ...\n",
      "4        SEATTLE/WASHINGTON (Reuters) - President Donal...\n",
      "                               ...                        \n",
      "21412    BRUSSELS (Reuters) - NATO allies on Tuesday we...\n",
      "21413    LONDON (Reuters) - LexisNexis, a provider of l...\n",
      "21414    MINSK (Reuters) - In the shadow of disused Sov...\n",
      "21415    MOSCOW (Reuters) - Vatican Secretary of State ...\n",
      "21416    JAKARTA (Reuters) - Indonesia will buy 11 Sukh...\n",
      "Name: text, Length: 21417, dtype: object\n"
     ]
    }
   ],
   "source": []
  },
  {
   "cell_type": "code",
   "execution_count": null,
   "metadata": {},
   "outputs": [],
   "source": []
  }
 ],
 "metadata": {
  "kernelspec": {
   "display_name": "dsml_19",
   "language": "python",
   "name": "python3"
  },
  "language_info": {
   "codemirror_mode": {
    "name": "ipython",
    "version": 3
   },
   "file_extension": ".py",
   "mimetype": "text/x-python",
   "name": "python",
   "nbconvert_exporter": "python",
   "pygments_lexer": "ipython3",
   "version": "3.10.8"
  },
  "orig_nbformat": 4
 },
 "nbformat": 4,
 "nbformat_minor": 2
}
